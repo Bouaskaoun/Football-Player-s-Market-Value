{
 "cells": [
  {
   "cell_type": "code",
   "execution_count": 1,
   "metadata": {},
   "outputs": [],
   "source": [
    "import pandas as pd\n",
    "import numpy as np\n",
    "import re"
   ]
  },
  {
   "cell_type": "code",
   "execution_count": 42,
   "metadata": {},
   "outputs": [],
   "source": [
    "df = pd.read_csv('players_data.csv')"
   ]
  },
  {
   "cell_type": "code",
   "execution_count": 43,
   "metadata": {},
   "outputs": [
    {
     "data": {
      "text/html": [
       "<div>\n",
       "<style scoped>\n",
       "    .dataframe tbody tr th:only-of-type {\n",
       "        vertical-align: middle;\n",
       "    }\n",
       "\n",
       "    .dataframe tbody tr th {\n",
       "        vertical-align: top;\n",
       "    }\n",
       "\n",
       "    .dataframe thead th {\n",
       "        text-align: right;\n",
       "    }\n",
       "</style>\n",
       "<table border=\"1\" class=\"dataframe\">\n",
       "  <thead>\n",
       "    <tr style=\"text-align: right;\">\n",
       "      <th></th>\n",
       "      <th>NAME</th>\n",
       "      <th>AGE</th>\n",
       "      <th>OVA</th>\n",
       "      <th>POT</th>\n",
       "      <th>TEAM &amp; CONTRACT</th>\n",
       "      <th>ID</th>\n",
       "      <th>HEIGHT</th>\n",
       "      <th>WEIGHT</th>\n",
       "      <th>FOOT</th>\n",
       "      <th>BOV</th>\n",
       "      <th>...</th>\n",
       "      <th>A/W</th>\n",
       "      <th>D/W</th>\n",
       "      <th>IR</th>\n",
       "      <th>BODY TYPE</th>\n",
       "      <th>PAC</th>\n",
       "      <th>SHO</th>\n",
       "      <th>PAS</th>\n",
       "      <th>DRI</th>\n",
       "      <th>DEF</th>\n",
       "      <th>PHY</th>\n",
       "    </tr>\n",
       "  </thead>\n",
       "  <tbody>\n",
       "    <tr>\n",
       "      <th>0</th>\n",
       "      <td>A. Isak\\nST</td>\n",
       "      <td>21</td>\n",
       "      <td>82</td>\n",
       "      <td>86</td>\n",
       "      <td>Real Sociedad\\n2019 ~ 2026</td>\n",
       "      <td>233731</td>\n",
       "      <td>192cm</td>\n",
       "      <td>77kg</td>\n",
       "      <td>Right</td>\n",
       "      <td>84</td>\n",
       "      <td>...</td>\n",
       "      <td>High</td>\n",
       "      <td>Low</td>\n",
       "      <td>2</td>\n",
       "      <td>Unique</td>\n",
       "      <td>84</td>\n",
       "      <td>82</td>\n",
       "      <td>69</td>\n",
       "      <td>80</td>\n",
       "      <td>29</td>\n",
       "      <td>69</td>\n",
       "    </tr>\n",
       "    <tr>\n",
       "      <th>1</th>\n",
       "      <td>J. Gbamin\\nCDM CM</td>\n",
       "      <td>25</td>\n",
       "      <td>76</td>\n",
       "      <td>76</td>\n",
       "      <td>PFC CSKA Moscow\\n2019 ~ 2024</td>\n",
       "      <td>214947</td>\n",
       "      <td>186cm</td>\n",
       "      <td>83kg</td>\n",
       "      <td>Right</td>\n",
       "      <td>76</td>\n",
       "      <td>...</td>\n",
       "      <td>Medium</td>\n",
       "      <td>Medium</td>\n",
       "      <td>1</td>\n",
       "      <td>Normal (185+)</td>\n",
       "      <td>73</td>\n",
       "      <td>57</td>\n",
       "      <td>72</td>\n",
       "      <td>73</td>\n",
       "      <td>76</td>\n",
       "      <td>74</td>\n",
       "    </tr>\n",
       "    <tr>\n",
       "      <th>2</th>\n",
       "      <td>Merino\\nCM</td>\n",
       "      <td>25</td>\n",
       "      <td>83</td>\n",
       "      <td>87</td>\n",
       "      <td>Real Sociedad\\n2018 ~ 2025</td>\n",
       "      <td>225193</td>\n",
       "      <td>189cm</td>\n",
       "      <td>83kg</td>\n",
       "      <td>Left</td>\n",
       "      <td>85</td>\n",
       "      <td>...</td>\n",
       "      <td>High</td>\n",
       "      <td>High</td>\n",
       "      <td>1</td>\n",
       "      <td>Normal (185+)</td>\n",
       "      <td>74</td>\n",
       "      <td>78</td>\n",
       "      <td>81</td>\n",
       "      <td>82</td>\n",
       "      <td>82</td>\n",
       "      <td>81</td>\n",
       "    </tr>\n",
       "    <tr>\n",
       "      <th>3</th>\n",
       "      <td>21\\n L. Dickmann\\nRB RM</td>\n",
       "      <td>23</td>\n",
       "      <td>70</td>\n",
       "      <td>74</td>\n",
       "      <td>SPAL\\n2019 ~ 2022</td>\n",
       "      <td>229456</td>\n",
       "      <td>177cm</td>\n",
       "      <td>70kg</td>\n",
       "      <td>Right</td>\n",
       "      <td>70</td>\n",
       "      <td>...</td>\n",
       "      <td>High</td>\n",
       "      <td>Medium</td>\n",
       "      <td>1</td>\n",
       "      <td>Normal (170-185)</td>\n",
       "      <td>70</td>\n",
       "      <td>47</td>\n",
       "      <td>58</td>\n",
       "      <td>67</td>\n",
       "      <td>68</td>\n",
       "      <td>62</td>\n",
       "    </tr>\n",
       "    <tr>\n",
       "      <th>4</th>\n",
       "      <td>E. Tapsoba\\nCB</td>\n",
       "      <td>22</td>\n",
       "      <td>80</td>\n",
       "      <td>86</td>\n",
       "      <td>Bayer 04 Leverkusen\\n2020 ~ 2026</td>\n",
       "      <td>247263</td>\n",
       "      <td>194cm</td>\n",
       "      <td>85kg</td>\n",
       "      <td>Right</td>\n",
       "      <td>82</td>\n",
       "      <td>...</td>\n",
       "      <td>Medium</td>\n",
       "      <td>High</td>\n",
       "      <td>2</td>\n",
       "      <td>Normal (185+)</td>\n",
       "      <td>73</td>\n",
       "      <td>54</td>\n",
       "      <td>65</td>\n",
       "      <td>69</td>\n",
       "      <td>82</td>\n",
       "      <td>79</td>\n",
       "    </tr>\n",
       "  </tbody>\n",
       "</table>\n",
       "<p>5 rows × 72 columns</p>\n",
       "</div>"
      ],
      "text/plain": [
       "                      NAME  AGE  OVA  POT                   TEAM & CONTRACT  \\\n",
       "0              A. Isak\\nST   21   82   86        Real Sociedad\\n2019 ~ 2026   \n",
       "1        J. Gbamin\\nCDM CM   25   76   76      PFC CSKA Moscow\\n2019 ~ 2024   \n",
       "2               Merino\\nCM   25   83   87        Real Sociedad\\n2018 ~ 2025   \n",
       "3  21\\n L. Dickmann\\nRB RM   23   70   74                 SPAL\\n2019 ~ 2022   \n",
       "4           E. Tapsoba\\nCB   22   80   86  Bayer 04 Leverkusen\\n2020 ~ 2026   \n",
       "\n",
       "       ID HEIGHT WEIGHT   FOOT  BOV  ...     A/W     D/W IR         BODY TYPE  \\\n",
       "0  233731  192cm   77kg  Right   84  ...    High     Low  2            Unique   \n",
       "1  214947  186cm   83kg  Right   76  ...  Medium  Medium  1     Normal (185+)   \n",
       "2  225193  189cm   83kg   Left   85  ...    High    High  1     Normal (185+)   \n",
       "3  229456  177cm   70kg  Right   70  ...    High  Medium  1  Normal (170-185)   \n",
       "4  247263  194cm   85kg  Right   82  ...  Medium    High  2     Normal (185+)   \n",
       "\n",
       "  PAC SHO PAS  DRI  DEF  PHY  \n",
       "0  84  82  69   80   29   69  \n",
       "1  73  57  72   73   76   74  \n",
       "2  74  78  81   82   82   81  \n",
       "3  70  47  58   67   68   62  \n",
       "4  73  54  65   69   82   79  \n",
       "\n",
       "[5 rows x 72 columns]"
      ]
     },
     "execution_count": 43,
     "metadata": {},
     "output_type": "execute_result"
    }
   ],
   "source": [
    "df.head()"
   ]
  },
  {
   "cell_type": "code",
   "execution_count": 44,
   "metadata": {},
   "outputs": [
    {
     "data": {
      "text/plain": [
       "Index(['NAME', 'AGE', 'OVA', 'POT', 'TEAM & CONTRACT', 'ID', 'HEIGHT',\n",
       "       'WEIGHT', 'FOOT', 'BOV', 'BP', 'GROWTH', 'JOINED', 'LOAN DATE END',\n",
       "       'VALUE', 'WAGE', 'RELEASE CLAUSE', 'ATTACKING', 'CROSSING', 'FINISHING',\n",
       "       'HEADING ACCURACY', 'SHORT PASSING', 'VOLLEYS', 'SKILL', 'DRIBBLING',\n",
       "       'CURVE', 'FK ACCURACY', 'LONG PASSING', 'BALL CONTROL', 'MOVEMENT',\n",
       "       'ACCELERATION', 'SPRINT SPEED', 'AGILITY', 'REACTIONS', 'BALANCE',\n",
       "       'POWER', 'SHOT POWER', 'JUMPING', 'STAMINA', 'STRENGTH', 'LONG SHOTS',\n",
       "       'MENTALITY', 'AGGRESSION', 'INTERCEPTIONS', 'POSITIONING', 'VISION',\n",
       "       'PENALTIES', 'COMPOSURE', 'DEFENDING', 'MARKING', 'STANDING TACKLE',\n",
       "       'SLIDING TACKLE', 'GOALKEEPING', 'GK DIVING', 'GK HANDLING',\n",
       "       'GK KICKING', 'GK POSITIONING', 'GK REFLEXES', 'TOTAL', 'BASE STATS',\n",
       "       'W/F', 'SM', 'A/W', 'D/W', 'IR', 'BODY TYPE', 'PAC', 'SHO', 'PAS',\n",
       "       'DRI', 'DEF', 'PHY'],\n",
       "      dtype='object')"
      ]
     },
     "execution_count": 44,
     "metadata": {},
     "output_type": "execute_result"
    }
   ],
   "source": [
    "df.columns"
   ]
  },
  {
   "cell_type": "code",
   "execution_count": 45,
   "metadata": {},
   "outputs": [
    {
     "name": "stdout",
     "output_type": "stream",
     "text": [
      "<class 'pandas.core.frame.DataFrame'>\n",
      "RangeIndex: 100 entries, 0 to 99\n",
      "Data columns (total 72 columns):\n",
      " #   Column            Non-Null Count  Dtype \n",
      "---  ------            --------------  ----- \n",
      " 0   NAME              100 non-null    object\n",
      " 1   AGE               100 non-null    int64 \n",
      " 2   OVA               100 non-null    int64 \n",
      " 3   POT               100 non-null    int64 \n",
      " 4   TEAM & CONTRACT   100 non-null    object\n",
      " 5   ID                100 non-null    int64 \n",
      " 6   HEIGHT            100 non-null    object\n",
      " 7   WEIGHT            100 non-null    object\n",
      " 8   FOOT              100 non-null    object\n",
      " 9   BOV               100 non-null    int64 \n",
      " 10  BP                100 non-null    object\n",
      " 11  GROWTH            100 non-null    int64 \n",
      " 12  JOINED            100 non-null    object\n",
      " 13  LOAN DATE END     5 non-null      object\n",
      " 14  VALUE             100 non-null    object\n",
      " 15  WAGE              100 non-null    object\n",
      " 16  RELEASE CLAUSE    100 non-null    object\n",
      " 17  ATTACKING         100 non-null    int64 \n",
      " 18  CROSSING          100 non-null    int64 \n",
      " 19  FINISHING         100 non-null    int64 \n",
      " 20  HEADING ACCURACY  100 non-null    int64 \n",
      " 21  SHORT PASSING     100 non-null    int64 \n",
      " 22  VOLLEYS           100 non-null    int64 \n",
      " 23  SKILL             100 non-null    int64 \n",
      " 24  DRIBBLING         100 non-null    int64 \n",
      " 25  CURVE             100 non-null    int64 \n",
      " 26  FK ACCURACY       100 non-null    int64 \n",
      " 27  LONG PASSING      100 non-null    int64 \n",
      " 28  BALL CONTROL      100 non-null    int64 \n",
      " 29  MOVEMENT          100 non-null    int64 \n",
      " 30  ACCELERATION      100 non-null    int64 \n",
      " 31  SPRINT SPEED      100 non-null    int64 \n",
      " 32  AGILITY           100 non-null    int64 \n",
      " 33  REACTIONS         100 non-null    int64 \n",
      " 34  BALANCE           100 non-null    int64 \n",
      " 35  POWER             100 non-null    int64 \n",
      " 36  SHOT POWER        100 non-null    int64 \n",
      " 37  JUMPING           100 non-null    int64 \n",
      " 38  STAMINA           100 non-null    int64 \n",
      " 39  STRENGTH          100 non-null    int64 \n",
      " 40  LONG SHOTS        100 non-null    int64 \n",
      " 41  MENTALITY         100 non-null    int64 \n",
      " 42  AGGRESSION        100 non-null    int64 \n",
      " 43  INTERCEPTIONS     100 non-null    int64 \n",
      " 44  POSITIONING       100 non-null    int64 \n",
      " 45  VISION            100 non-null    int64 \n",
      " 46  PENALTIES         100 non-null    int64 \n",
      " 47  COMPOSURE         100 non-null    int64 \n",
      " 48  DEFENDING         100 non-null    int64 \n",
      " 49  MARKING           100 non-null    int64 \n",
      " 50  STANDING TACKLE   100 non-null    int64 \n",
      " 51  SLIDING TACKLE    100 non-null    int64 \n",
      " 52  GOALKEEPING       100 non-null    int64 \n",
      " 53  GK DIVING         100 non-null    int64 \n",
      " 54  GK HANDLING       100 non-null    int64 \n",
      " 55  GK KICKING        100 non-null    int64 \n",
      " 56  GK POSITIONING    100 non-null    int64 \n",
      " 57  GK REFLEXES       100 non-null    int64 \n",
      " 58  TOTAL             100 non-null    int64 \n",
      " 59  BASE STATS        100 non-null    int64 \n",
      " 60  W/F               100 non-null    int64 \n",
      " 61  SM                100 non-null    int64 \n",
      " 62  A/W               100 non-null    object\n",
      " 63  D/W               100 non-null    object\n",
      " 64  IR                100 non-null    int64 \n",
      " 65  BODY TYPE         100 non-null    object\n",
      " 66  PAC               100 non-null    int64 \n",
      " 67  SHO               100 non-null    int64 \n",
      " 68  PAS               100 non-null    int64 \n",
      " 69  DRI               100 non-null    int64 \n",
      " 70  DEF               100 non-null    int64 \n",
      " 71  PHY               100 non-null    int64 \n",
      "dtypes: int64(58), object(14)\n",
      "memory usage: 56.4+ KB\n"
     ]
    }
   ],
   "source": [
    "df.info()"
   ]
  },
  {
   "cell_type": "code",
   "execution_count": 46,
   "metadata": {},
   "outputs": [
    {
     "data": {
      "text/plain": [
       "0            A. Isa\n",
       "1          J. Gbami\n",
       "2             Merin\n",
       "3        L. Dickman\n",
       "4         E. Tapsob\n",
       "          ...      \n",
       "95    V. Kristianse\n",
       "96          R. Lavi\n",
       "97        L. de Jon\n",
       "98     Gabriel Jesu\n",
       "99        Iñaki Peñ\n",
       "Name: NAME, Length: 100, dtype: object"
      ]
     },
     "execution_count": 46,
     "metadata": {},
     "output_type": "execute_result"
    }
   ],
   "source": [
    "df['NAME'] = df['NAME'].apply(lambda x: re.split(\"[a-z]\\n\", x)[0]).apply(lambda x: x.split('\\n')[1] if len(x.split('\\n'))>1 else x)\n",
    "df.NAME"
   ]
  },
  {
   "cell_type": "code",
   "execution_count": 47,
   "metadata": {},
   "outputs": [
    {
     "name": "stdout",
     "output_type": "stream",
     "text": [
      "This print is for the column : NAME\n",
      "0            A. Isa\n",
      "1          J. Gbami\n",
      "2             Merin\n",
      "3        L. Dickman\n",
      "4         E. Tapsob\n",
      "          ...      \n",
      "95    V. Kristianse\n",
      "96          R. Lavi\n",
      "97        L. de Jon\n",
      "98     Gabriel Jesu\n",
      "99        Iñaki Peñ\n",
      "Name: NAME, Length: 100, dtype: object\n",
      "===========================\n",
      "This print is for the column : TEAM & CONTRACT\n",
      "0                Real Sociedad\\n2019 ~ 2026\n",
      "1              PFC CSKA Moscow\\n2019 ~ 2024\n",
      "2                Real Sociedad\\n2018 ~ 2025\n",
      "3                         SPAL\\n2019 ~ 2022\n",
      "4          Bayer 04 Leverkusen\\n2020 ~ 2026\n",
      "                      ...                  \n",
      "95              F.C. København\\n2020 ~ 2025\n",
      "96             Manchester City\\n2021 ~ 2023\n",
      "97      FC Barcelona\\nJun 30, 2022\\nON LOAN\n",
      "98             Manchester City\\n2016 ~ 2023\n",
      "99    Galatasaray SK\\nJun 30, 2022\\nON LOAN\n",
      "Name: TEAM & CONTRACT, Length: 100, dtype: object\n",
      "===========================\n",
      "This print is for the column : HEIGHT\n",
      "0     192cm\n",
      "1     186cm\n",
      "2     189cm\n",
      "3     177cm\n",
      "4     194cm\n",
      "      ...  \n",
      "95    183cm\n",
      "96    181cm\n",
      "97    188cm\n",
      "98    175cm\n",
      "99    184cm\n",
      "Name: HEIGHT, Length: 100, dtype: object\n",
      "===========================\n",
      "This print is for the column : WEIGHT\n",
      "0     77kg\n",
      "1     83kg\n",
      "2     83kg\n",
      "3     70kg\n",
      "4     85kg\n",
      "      ... \n",
      "95    77kg\n",
      "96    75kg\n",
      "97    86kg\n",
      "98    73kg\n",
      "99    78kg\n",
      "Name: WEIGHT, Length: 100, dtype: object\n",
      "===========================\n",
      "This print is for the column : FOOT\n",
      "0     Right\n",
      "1     Right\n",
      "2      Left\n",
      "3     Right\n",
      "4     Right\n",
      "      ...  \n",
      "95     Left\n",
      "96    Right\n",
      "97    Right\n",
      "98    Right\n",
      "99    Right\n",
      "Name: FOOT, Length: 100, dtype: object\n",
      "===========================\n",
      "This print is for the column : BP\n",
      "0      ST\n",
      "1     CDM\n",
      "2      CM\n",
      "3      RB\n",
      "4      CB\n",
      "     ... \n",
      "95     LB\n",
      "96     CB\n",
      "97     ST\n",
      "98     ST\n",
      "99     GK\n",
      "Name: BP, Length: 100, dtype: object\n",
      "===========================\n",
      "This print is for the column : JOINED\n",
      "0      Jul 1, 2019\n",
      "1      Aug 2, 2019\n",
      "2     Jul 12, 2018\n",
      "3      Jul 1, 2019\n",
      "4     Jan 31, 2020\n",
      "          ...     \n",
      "95    Nov 28, 2020\n",
      "96     Jan 1, 2021\n",
      "97     Jul 1, 2019\n",
      "98     Aug 3, 2016\n",
      "99     Jul 1, 2018\n",
      "Name: JOINED, Length: 100, dtype: object\n",
      "===========================\n",
      "This print is for the column : LOAN DATE END\n",
      "0              NaN\n",
      "1              NaN\n",
      "2              NaN\n",
      "3              NaN\n",
      "4              NaN\n",
      "          ...     \n",
      "95             NaN\n",
      "96             NaN\n",
      "97    Jun 30, 2022\n",
      "98             NaN\n",
      "99    Jun 30, 2022\n",
      "Name: LOAN DATE END, Length: 100, dtype: object\n",
      "===========================\n",
      "This print is for the column : VALUE\n",
      "0       €45M\n",
      "1      €7.5M\n",
      "2       €50M\n",
      "3      €2.1M\n",
      "4       €31M\n",
      "       ...  \n",
      "95     €2.8M\n",
      "96     €1.2M\n",
      "97      €17M\n",
      "98    €49.5M\n",
      "99     €3.1M\n",
      "Name: VALUE, Length: 100, dtype: object\n",
      "===========================\n",
      "This print is for the column : WAGE\n",
      "0      €37K\n",
      "1      €35K\n",
      "2      €47K\n",
      "3       €2K\n",
      "4      €46K\n",
      "      ...  \n",
      "95      €3K\n",
      "96     €700\n",
      "97     €34K\n",
      "98    €150K\n",
      "99     €34K\n",
      "Name: WAGE, Length: 100, dtype: object\n",
      "===========================\n",
      "This print is for the column : RELEASE CLAUSE\n",
      "0      €97.9M\n",
      "1        €12M\n",
      "2     €108.8M\n",
      "3       €3.5M\n",
      "4      €58.9M\n",
      "       ...   \n",
      "95      €4.2M\n",
      "96      €3.4M\n",
      "97         €0\n",
      "98     €95.3M\n",
      "99         €0\n",
      "Name: RELEASE CLAUSE, Length: 100, dtype: object\n",
      "===========================\n",
      "This print is for the column : A/W\n",
      "0       High\n",
      "1     Medium\n",
      "2       High\n",
      "3       High\n",
      "4     Medium\n",
      "       ...  \n",
      "95      High\n",
      "96    Medium\n",
      "97    Medium\n",
      "98      High\n",
      "99    Medium\n",
      "Name: A/W, Length: 100, dtype: object\n",
      "===========================\n",
      "This print is for the column : D/W\n",
      "0        Low\n",
      "1     Medium\n",
      "2       High\n",
      "3     Medium\n",
      "4       High\n",
      "       ...  \n",
      "95    Medium\n",
      "96      High\n",
      "97      High\n",
      "98      High\n",
      "99    Medium\n",
      "Name: D/W, Length: 100, dtype: object\n",
      "===========================\n",
      "This print is for the column : BODY TYPE\n",
      "0               Unique\n",
      "1        Normal (185+)\n",
      "2        Normal (185+)\n",
      "3     Normal (170-185)\n",
      "4        Normal (185+)\n",
      "            ...       \n",
      "95    Normal (170-185)\n",
      "96    Normal (170-185)\n",
      "97       Normal (185+)\n",
      "98              Unique\n",
      "99      Lean (170-185)\n",
      "Name: BODY TYPE, Length: 100, dtype: object\n",
      "===========================\n"
     ]
    }
   ],
   "source": [
    "columns = df.select_dtypes(include='object').columns.values\n",
    "for col in columns:\n",
    "    print('This print is for the column : '+ col)\n",
    "    print(df[col])\n",
    "    print('===========================')"
   ]
  },
  {
   "cell_type": "code",
   "execution_count": 48,
   "metadata": {},
   "outputs": [],
   "source": [
    "df['TEAM'] = df['TEAM & CONTRACT'].apply(lambda x: x.split('\\n')[0])"
   ]
  },
  {
   "cell_type": "code",
   "execution_count": 49,
   "metadata": {},
   "outputs": [],
   "source": [
    "df['CONTRACT'] = df['TEAM & CONTRACT'].apply(lambda x: x.split('\\n')[1])"
   ]
  },
  {
   "cell_type": "code",
   "execution_count": 50,
   "metadata": {},
   "outputs": [
    {
     "data": {
      "text/plain": [
       "array([1], dtype=int64)"
      ]
     },
     "execution_count": 50,
     "metadata": {},
     "output_type": "execute_result"
    }
   ],
   "source": [
    "x = df.HEIGHT.apply(lambda x: 1 if 'cm' in x else 0)\n",
    "x.unique()"
   ]
  },
  {
   "cell_type": "code",
   "execution_count": 51,
   "metadata": {},
   "outputs": [
    {
     "data": {
      "text/plain": [
       "0     192.0\n",
       "1     186.0\n",
       "2     189.0\n",
       "3     177.0\n",
       "4     194.0\n",
       "      ...  \n",
       "95    183.0\n",
       "96    181.0\n",
       "97    188.0\n",
       "98    175.0\n",
       "99    184.0\n",
       "Name: HEIGHT, Length: 100, dtype: float64"
      ]
     },
     "execution_count": 51,
     "metadata": {},
     "output_type": "execute_result"
    }
   ],
   "source": [
    "df['HEIGHT'] = df.HEIGHT.apply(lambda x: x.replace('cm','')).astype('float')\n",
    "df.HEIGHT"
   ]
  },
  {
   "cell_type": "code",
   "execution_count": 52,
   "metadata": {},
   "outputs": [
    {
     "data": {
      "text/plain": [
       "array([1], dtype=int64)"
      ]
     },
     "execution_count": 52,
     "metadata": {},
     "output_type": "execute_result"
    }
   ],
   "source": [
    "x = df.WEIGHT.apply(lambda x: 1 if 'kg' in x else 0)\n",
    "x.unique()"
   ]
  },
  {
   "cell_type": "code",
   "execution_count": 53,
   "metadata": {},
   "outputs": [
    {
     "data": {
      "text/plain": [
       "0     77.0\n",
       "1     83.0\n",
       "2     83.0\n",
       "3     70.0\n",
       "4     85.0\n",
       "      ... \n",
       "95    77.0\n",
       "96    75.0\n",
       "97    86.0\n",
       "98    73.0\n",
       "99    78.0\n",
       "Name: WEIGHT, Length: 100, dtype: float64"
      ]
     },
     "execution_count": 53,
     "metadata": {},
     "output_type": "execute_result"
    }
   ],
   "source": [
    "df['WEIGHT'] = df.WEIGHT.apply(lambda x: x.replace('kg','')).astype('float')\n",
    "df.WEIGHT"
   ]
  },
  {
   "cell_type": "code",
   "execution_count": 58,
   "metadata": {},
   "outputs": [],
   "source": [
    "def parse_value(value):\n",
    "    value = value.replace('€','')\n",
    "    if 'M' in value:\n",
    "        x = float(value.replace('M',''))\n",
    "    elif 'K' in value:\n",
    "        x = float(value.replace('K',''))/1000\n",
    "    else:\n",
    "        x = float(value)\n",
    "    return x"
   ]
  },
  {
   "cell_type": "code",
   "execution_count": 55,
   "metadata": {},
   "outputs": [
    {
     "data": {
      "text/plain": [
       "0     45.0\n",
       "1      7.5\n",
       "2     50.0\n",
       "3      2.1\n",
       "4     31.0\n",
       "      ... \n",
       "95     2.8\n",
       "96     1.2\n",
       "97    17.0\n",
       "98    49.5\n",
       "99     3.1\n",
       "Name: VALUE, Length: 100, dtype: float64"
      ]
     },
     "execution_count": 55,
     "metadata": {},
     "output_type": "execute_result"
    }
   ],
   "source": [
    "df['VALUE'] = df.VALUE.apply(lambda x: parse_value(x))\n",
    "df.VALUE"
   ]
  },
  {
   "cell_type": "code",
   "execution_count": 56,
   "metadata": {},
   "outputs": [
    {
     "data": {
      "text/plain": [
       "0      37.0\n",
       "1      35.0\n",
       "2      47.0\n",
       "3       2.0\n",
       "4      46.0\n",
       "      ...  \n",
       "95      3.0\n",
       "96    700.0\n",
       "97     34.0\n",
       "98    150.0\n",
       "99     34.0\n",
       "Name: WAGE, Length: 100, dtype: float64"
      ]
     },
     "execution_count": 56,
     "metadata": {},
     "output_type": "execute_result"
    }
   ],
   "source": [
    "df['WAGE'] = df.WAGE.apply(lambda x: x.replace('€','').replace('K','')).astype(float)\n",
    "df.WAGE"
   ]
  },
  {
   "cell_type": "code",
   "execution_count": 59,
   "metadata": {},
   "outputs": [
    {
     "data": {
      "text/plain": [
       "0      97.9\n",
       "1      12.0\n",
       "2     108.8\n",
       "3       3.5\n",
       "4      58.9\n",
       "      ...  \n",
       "95      4.2\n",
       "96      3.4\n",
       "97      0.0\n",
       "98     95.3\n",
       "99      0.0\n",
       "Name: RELEASE CLAUSE, Length: 100, dtype: float64"
      ]
     },
     "execution_count": 59,
     "metadata": {},
     "output_type": "execute_result"
    }
   ],
   "source": [
    "df['RELEASE CLAUSE'] = df['RELEASE CLAUSE'].apply(lambda x: parse_value(x))\n",
    "df['RELEASE CLAUSE']"
   ]
  },
  {
   "cell_type": "code",
   "execution_count": null,
   "metadata": {},
   "outputs": [],
   "source": []
  }
 ],
 "metadata": {
  "kernelspec": {
   "display_name": "Python 3",
   "language": "python",
   "name": "python3"
  },
  "language_info": {
   "codemirror_mode": {
    "name": "ipython",
    "version": 3
   },
   "file_extension": ".py",
   "mimetype": "text/x-python",
   "name": "python",
   "nbconvert_exporter": "python",
   "pygments_lexer": "ipython3",
   "version": "3.8.5"
  }
 },
 "nbformat": 4,
 "nbformat_minor": 4
}
